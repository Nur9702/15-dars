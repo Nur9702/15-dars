{
  "nbformat": 4,
  "nbformat_minor": 0,
  "metadata": {
    "colab": {
      "provenance": [],
      "include_colab_link": true
    },
    "kernelspec": {
      "name": "python3",
      "display_name": "Python 3"
    },
    "language_info": {
      "name": "python"
    }
  },
  "cells": [
    {
      "cell_type": "markdown",
      "metadata": {
        "id": "view-in-github",
        "colab_type": "text"
      },
      "source": [
        "<a href=\"https://colab.research.google.com/github/Nur9702/15-dars/blob/main/10_MA%CA%BCLUMOTLARGA_ISHLOV_BERISH_10_11_HTML_JSON_API_o%CA%BBqish.ipynb\" target=\"_parent\"><img src=\"https://colab.research.google.com/assets/colab-badge.svg\" alt=\"Open In Colab\"/></a>"
      ]
    },
    {
      "cell_type": "markdown",
      "source": [
        "![Imgur](https://i.imgur.com/h4PPC71.png)\n",
        "#**10-modul. Maʼlumotlarga ishlov berish. Fayllar va maʼlumotlar ombori**\n",
        "#10.11. Veb sahifalardan oʻqish. JSON va API\n",
        "**Bu vazifalarni bajargach, veb sahifalardan maʼlumot olish, JSON bilan ishlash va API soʻrovlarini yuborish koʻnikmalarini egallaysiz.**"
      ],
      "metadata": {
        "id": "EM2GVgOYQoEY"
      }
    },
    {
      "cell_type": "markdown",
      "source": [
        "#1-topshiriq\n",
        "1. Pandas kutubxonasidan foydalanib, quyida berilgan link ichidan barcha jadvallarni o‘qing va roʻyxat shaklida saqlang.\n",
        " * https://en.wikipedia.org/wiki/Fossil_fuel_exporters\n",
        "2. Har bir jadvalning birinchi 1 qatorini ekranga chiqaring.\n",
        "\n",
        "\n",
        "    "
      ],
      "metadata": {
        "id": "_0tS60y7Q2qR"
      }
    },
    {
      "cell_type": "code",
      "execution_count": null,
      "metadata": {
        "id": "X_zQXS8pQQM9"
      },
      "outputs": [],
      "source": [
        "#javobni shu yerda yozing."
      ]
    },
    {
      "cell_type": "markdown",
      "source": [
        "#2-topshiriq\n",
        "Yuqorida yaratilgan jadvallar roʻyxatidan eng uzunini `largest_data.csv` fayliga saqlang."
      ],
      "metadata": {
        "id": "yHO8vEOAdIok"
      }
    },
    {
      "cell_type": "code",
      "source": [
        "#javobni shu yerda yozing."
      ],
      "metadata": {
        "id": "grUro0-AeGz4"
      },
      "execution_count": null,
      "outputs": []
    },
    {
      "cell_type": "markdown",
      "source": [
        "#3-topshiriq\n",
        "1. Quyidagi link orqali json maʼlumotni yuklab oling va uni climate_change_co2.json nomi bilan saqlang.\n",
        " * https://raw.githubusercontent.com/alishermutalov/praktikum-datasets/refs/heads/praktikum/json_data.json\n",
        "2. Maʼlumotlar boshidan 5 ta qatorni ekranga chiqaring!\n"
      ],
      "metadata": {
        "id": "Cf5ZgJAce_QS"
      }
    },
    {
      "cell_type": "code",
      "source": [
        "url = \"https://raw.githubusercontent.com/alishermutalov/praktikum-datasets/refs/heads/praktikum/json_data.json\"\n",
        "#javobni shu yerda yozing."
      ],
      "metadata": {
        "id": "J30yFArNu6UN"
      },
      "execution_count": null,
      "outputs": []
    },
    {
      "cell_type": "markdown",
      "source": [
        "#4-topshiriq\n",
        "1. Quyida berilgan linkga `get` soʻrovini yuborish orqali `json` maʼlumotlarini `posts.json` fayliga saqlang.\n",
        "  * https://jsonplaceholder.typicode.com/posts/\n",
        "2. Ushbu maʼlumotlarni dataframe koʻrinishida saqlang va tasodifiy 5 ta qatorni ekranga chiqaring."
      ],
      "metadata": {
        "id": "Sp027Kpn0cLH"
      }
    },
    {
      "cell_type": "code",
      "source": [
        "url = \"https://jsonplaceholder.typicode.com/posts/\"\n",
        "#javobni shu yerga yozing."
      ],
      "metadata": {
        "id": "q7d__iIX3n61"
      },
      "execution_count": null,
      "outputs": []
    }
  ]
}