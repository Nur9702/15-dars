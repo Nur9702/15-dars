{
  "nbformat": 4,
  "nbformat_minor": 0,
  "metadata": {
    "colab": {
      "provenance": [],
      "include_colab_link": true
    },
    "kernelspec": {
      "name": "python3",
      "display_name": "Python 3"
    },
    "language_info": {
      "name": "python"
    }
  },
  "cells": [
    {
      "cell_type": "markdown",
      "metadata": {
        "id": "view-in-github",
        "colab_type": "text"
      },
      "source": [
        "<a href=\"https://colab.research.google.com/github/Nur9702/15-dars/blob/main/10_MA%CA%BCLUMOTLARGA_ISHLOV_BERISH_10_25_YAKUNIY_AMALIY_VAZIFA.ipynb\" target=\"_parent\"><img src=\"https://colab.research.google.com/assets/colab-badge.svg\" alt=\"Open In Colab\"/></a>"
      ]
    },
    {
      "cell_type": "markdown",
      "source": [
        "![Imgur](https://i.imgur.com/h4PPC71.png)\n",
        "#**10-modul. Maʼlumotlarga ishlov berish. Fayllar va maʼlumotlar ombori**\n",
        "\n",
        "#**10.25. Modul boʻyicha yakuniy amaliy vazifa**\n",
        "\n",
        "**Amaliyotni bajargach, fayllar bilan ishlash, API va veb sahifalardan ma’lumot olish, SQL soʻrovlarini yozish va ma’lumotlar omboriga ma’lumot saqlash koʻnikmalariga ega boʻlasiz.**"
      ],
      "metadata": {
        "id": "qTu9BP7OGfBq"
      }
    },
    {
      "cell_type": "markdown",
      "source": [
        "#**Fayldan oʻqish va yozish**"
      ],
      "metadata": {
        "id": "2Znmz4tGY6UX"
      }
    },
    {
      "cell_type": "markdown",
      "source": [
        "#**1) CSV fayldan maʼlumotlarni o‘qish**\n",
        "* https://raw.githubusercontent.com/alishermutalov/praktikum-datasets/refs/heads/praktikum/data_date.csv havolasidagi maʼlumotlarni `df` oʻzgaruvchisiga saqlang!\n",
        "* `df` dan tasodifiy 10 ta qatorni ekranga chiqaring!"
      ],
      "metadata": {
        "id": "8tFQpa2tXFqH"
      }
    },
    {
      "cell_type": "code",
      "source": [
        "#javobni shu yerda yozing.\n",
        "url = \"https://raw.githubusercontent.com/alishermutalov/praktikum-datasets/refs/heads/praktikum/data_date.csv\"\n",
        "import pandas as pd\n",
        "\n",
        "df = pd.read_csv(url)\n",
        "df.sample(10)"
      ],
      "metadata": {
        "id": "CjbRW5t4GXyX"
      },
      "execution_count": null,
      "outputs": []
    },
    {
      "cell_type": "markdown",
      "source": [
        "#**2) CSV fayliga yozish**\n",
        "* Quyidagi maʼlumotlardan dataframe yarating va uni `people_data.csv` fayliga saqlang.\n",
        "```\n",
        "data = {\n",
        "    \"Name\": [\"Alice\", \"Bob\", \"Charlie\", \"David\", \"Eve\", \"Frank\", \"Grace\", \"Hannah\", \"Ivy\", \"Jack\"],\n",
        "    \"Age\": [25, 30, 35, 40, 28, 33, 38, 45, 29, 31],\n",
        "    \"City\": [\"Tashkent\", \"Samarkand\", \"Bukhara\", \"Andijan\", \"Nukus\", \"Khiva\", \"Namangan\", \"Fergana\", \"Jizzakh\", \"Termez\"]\n",
        "}\n",
        "```\n",
        "* Quyidagi maʼlumotlardan yana bir dataframe yarating va uni `people_data_2.csv` fayliga saqlang.\n",
        "```\n",
        "{\n",
        "'Name': ['Alice', 'Bob', 'Charlie'],\n",
        "'Age': [25, 30, 35]\n",
        "}\n",
        "```"
      ],
      "metadata": {
        "id": "iOl4-bYHZMKs"
      }
    },
    {
      "cell_type": "code",
      "source": [
        "#javobni shu yerda yozing.\n",
        "data = {\n",
        "  \"Name\": [\"Alice\", \"Bob\", \"Charlie\", \"David\", \"Eve\", \"Frank\", \"Grace\", \"Hannah\", \"Ivy\", \"Jack\"],\n",
        "  \"Age\": [25, 30, 35, 40, 28, 33, 38, 45, 29, 31],\n",
        "  \"City\": [\"Tashkent\", \"Samarkand\", \"Bukhara\", \"Andijan\", \"Nukus\", \"Khiva\", \"Namangan\", \"Fergana\", \"Jizzakh\", \"Termez\"]\n",
        "}\n",
        "df1 = pd.DataFrame(data)\n",
        "df1.to_csv('people_data.csv', index=False)\n",
        "display(df1.head())"
      ],
      "metadata": {
        "id": "Nof4mr-SKJsb"
      },
      "execution_count": null,
      "outputs": []
    },
    {
      "cell_type": "code",
      "source": [
        "data1 = {\n",
        "'Name': ['Alice', 'Bob', 'Charlie'],\n",
        "'Age': [25, 30, 35]\n",
        "}\n",
        "df2 = pd.DataFrame(data1)\n",
        "df2.to_csv('people_data_2.csv', index=False)\n",
        "df2.info()"
      ],
      "metadata": {
        "id": "M8oRe50pMnPm"
      },
      "execution_count": null,
      "outputs": []
    },
    {
      "cell_type": "markdown",
      "source": [
        "#**3) HDF5 formati bilan ishlash**\n",
        "* Yuqorida yaratgan dataframeʼlaringizni `people.h5` faylida saqlang.\n",
        "* `people.h5` faylidagi barcha jadvallarni oʻqing!"
      ],
      "metadata": {
        "id": "0zLfcOsnajs1"
      }
    },
    {
      "cell_type": "code",
      "source": [
        "#javobni shu yerda yozing.\n",
        "df1.to_hdf('people.h5', key='df1', mode='w')\n",
        "#df2.to_hdf('people.h5', key='df2', mode='a')\n",
        "\n",
        "df1_read = pd.read_hdf('people.h5', key='df1')\n",
        "#df2_read = pd.read_hdf('people.h5', key='df2')\n",
        "\n",
        "print(\"People.h5:\")\n",
        "display(df1_read)\n",
        "\n",
        "#print(\"\\nDataFrame 2 from HDF5:\")\n",
        "#display(df2_read)"
      ],
      "metadata": {
        "id": "MLt3Ia9yblg7"
      },
      "execution_count": null,
      "outputs": []
    },
    {
      "cell_type": "markdown",
      "source": [
        "#**4) JSON fayllar bilan ishlash**\n",
        "1. Quyidagi maʼlumotlarni dataframe koʻrinishida oʻqing va uni `data.json` fayliga yozing!\n",
        "```\n",
        "data = {\n",
        "    \"Name\": [\"Alice\", \"Bob\", \"Charlie\", \"David\", \"Eve\", \"Frank\", \"Grace\", \"Hannah\", \"Ivy\", \"Jack\"],\n",
        "    \"Age\": [25, 30, 35, 40, 28, 33, 38, 45, 29, 31],\n",
        "    \"City\": [\"Tashkent\", \"Samarkand\", \"Bukhara\", \"Andijan\", \"Nukus\", \"Khiva\", \"Namangan\", \"Fergana\", \"Jizzakh\", \"Termez\"]\n",
        "}\n",
        "```\n"
      ],
      "metadata": {
        "id": "yrVMDH4Eb7Nb"
      }
    },
    {
      "cell_type": "code",
      "source": [
        "#javobni shu yerda yozing.\n",
        "data2 = {\n",
        " \"Name\": [\"Alice\", \"Bob\", \"Charlie\", \"David\", \"Eve\", \"Frank\", \"Grace\", \"Hannah\", \"Ivy\", \"Jack\"],\n",
        " \"Age\": [25, 30, 35, 40, 28, 33, 38, 45, 29, 31],\n",
        " \"City\": [\"Tashkent\", \"Samarkand\", \"Bukhara\", \"Andijan\", \"Nukus\", \"Khiva\", \"Namangan\", \"Fergana\", \"Jizzakh\", \"Termez\"]\n",
        "}\n",
        "df3 = pd.DataFrame(data2)\n",
        "df3.to_json('data.json', index=False)\n",
        "display(df3)"
      ],
      "metadata": {
        "id": "y9R_wLU0RqGI"
      },
      "execution_count": null,
      "outputs": []
    },
    {
      "cell_type": "markdown",
      "source": [
        "#**5) APIʼlar bilan ishlash**\n",
        "1. Quyida berilgan API 17 mingdan ortiq kriptovalyutalarning dollarga nisbatan narxi haqidagi maʼlumotlarni saqlaydi. Siz esa endi:\n",
        "  * API orqali barcha maʼlumotlarni yigʻib oling;\n",
        "  * ularni dataframe koʻrinishida saqlang;\n",
        "  * maʼlumotlar boshidan 5 ta qatorni ekranga chiqaring;\n",
        "  * maʼlumotlar ichidan `bitcoin` ni izlab toping!"
      ],
      "metadata": {
        "id": "and9JBOxTZi1"
      }
    },
    {
      "cell_type": "code",
      "source": [
        "coins_url = \"https://api.coingecko.com/api/v3/coins/list\"\n",
        "#javobni shu yerda yozing.\n",
        "import requests\n",
        "\n",
        "response = requests.get(coins_url)\n",
        "coins_data = response.json()\n",
        "df_coins = pd.DataFrame(coins_data)\n",
        "display(df_coins.head())"
      ],
      "metadata": {
        "id": "hTiRN4GtUux1"
      },
      "execution_count": null,
      "outputs": []
    },
    {
      "cell_type": "code",
      "source": [
        "bitcoin_info = df_coins[df_coins['id'] == 'bitcoin']\n",
        "display(bitcoin_info)\n"
      ],
      "metadata": {
        "id": "nIQgrs_yQfHT"
      },
      "execution_count": null,
      "outputs": []
    },
    {
      "cell_type": "markdown",
      "source": [
        "#**6) APIʼlar bilan ishlash**\n",
        "1. Yuqorida berilgan kriptovalyuta maʼlumotlaridan `id` ustunini roʻyxat koʻrinishida saqlang va bu roʻyxatga `coin_ids` deb nom bering.\n",
        "2. https://api.coingecko.com/api/v3/simple/price?ids={coin_ids}&vs_currencies=usd havolasi orqali kriptovalyutalarning `usd` ga nisbatini oling (birinchi 100 ta maʼlumotni olish yetarli).\n",
        "3. 2-shartda berilgan link orqali olingan maʼlumotlarni dataframe koʻrinishida saqlang. Bunda uning indeksi va `usd` ustuni boʻlsin. `index` -> kriptovalyutalar nomi, `usd` -> narxi\n",
        "\n",
        "#**💡Ishora:** linkdagi `{coin_ids}` oʻzgaruvchi sifatida yozilgan. Siz ham 1-shartda saqlagan `coin_ids` oʻzgaruvchingizni shu qismda yozib keting!\n"
      ],
      "metadata": {
        "id": "Adll0CODXw_C"
      }
    },
    {
      "cell_type": "code",
      "source": [
        "coin_ids = df_coins['id'].tolist()\n",
        "\n",
        "price_url = f\"https://api.coingecko.com/api/v3/simple/price?ids={','.join(coin_ids[:100])}&vs_currencies=usd\"\n",
        "#javobni shu yerda yozing.\n",
        "response = requests.get(price_url)\n",
        "price_data = response.json()\n",
        "df_prices = pd.DataFrame.from_dict(price_data, orient='index')\n",
        "df_prices.columns = ['usd']\n",
        "display(df_prices)"
      ],
      "metadata": {
        "id": "rM56KHD4UwSM"
      },
      "execution_count": null,
      "outputs": []
    },
    {
      "cell_type": "markdown",
      "source": [
        "#**7) Veb sahifadan oʻqish**\n",
        "1. Pandas yordamida veb sahifadagi jadvalni yuklab oling.\n",
        "2. Ma’lumotlarni dataframe ko‘rinishida chiqaring.\n",
        "3. Agar sahifada bir nechta jadval bo‘lsa, eng muhimini tanlang.\n",
        "4. Ma’lumotni tozalang (bo‘sh qatorlarni olib tashlang, kerakli ustunlarni tanlang).\n",
        "5. Natijani CSV faylga saqlang.\n",
        "\n",
        "***Eslatma: manba sifatida oʻzingiz istagan veb sahifani tanlang. Bu vazifada mustaqil izlanishni oʻrganasiz!***"
      ],
      "metadata": {
        "id": "EOPTQR9Ecsyr"
      }
    },
    {
      "cell_type": "code",
      "source": [
        "#javobni shu yerda yozing.\n",
        "url = \"https://www.olx.uz/\"\n",
        "try:\n",
        "    tables = pd.read_html(url)\n",
        "    # Assuming the table you want is the first one on the page\n",
        "    df_web = tables[0]\n",
        "    display(df_web.head())\n",
        "except Exception as e:\n",
        "    print(f\"An error occurred: {e}\")\n",
        "    print(\"Please make sure the URL is correct and the page contains a table.\")"
      ],
      "metadata": {
        "id": "bc5Auaw1ehJn"
      },
      "execution_count": null,
      "outputs": []
    },
    {
      "cell_type": "markdown",
      "source": [
        "# **Maʼlumotlar ombori bilan ishlash**\n",
        "\n"
      ],
      "metadata": {
        "id": "zqaJ4HpNgCi2"
      }
    },
    {
      "cell_type": "markdown",
      "source": [
        "#**8) Maʼlumotlar omborini yuklash va ulanish**\n",
        "1. https://github.com/alishermutalov/praktikum-datasets/blob/praktikum/chinook.db havolasi orqali maʼlumotlar omborini yuklab oling.\n",
        "2. Yuklab olingan maʼlumotlar omboriga sqlite3 moduli yordamida **ulaning**."
      ],
      "metadata": {
        "id": "uBrVkZJyjNlQ"
      }
    },
    {
      "cell_type": "code",
      "source": [
        "!wget https://raw.githubusercontent.com/alishermutalov/praktikum-datasets/praktikum/chinook.db"
      ],
      "metadata": {
        "id": "ClYVXJ4Yl1ZS"
      },
      "execution_count": null,
      "outputs": []
    },
    {
      "cell_type": "code",
      "source": [
        "!unzip chinook.zip"
      ],
      "metadata": {
        "id": "Yw882iKkPbfm"
      },
      "execution_count": null,
      "outputs": []
    },
    {
      "cell_type": "code",
      "source": [
        "#javobni shu yerda yozing.\n",
        "import sqlite3\n",
        "\n",
        "db_file = 'chinook.db'\n",
        "try:\n",
        "    conn = sqlite3.connect(db_file)\n",
        "    print(f\"Successfully connected to {db_file}\")\n",
        "except sqlite3.Error as e:\n",
        "    print(f\"Error connecting to database: {e}\")"
      ],
      "metadata": {
        "id": "A-2KwlKt9M82"
      },
      "execution_count": null,
      "outputs": []
    },
    {
      "cell_type": "markdown",
      "source": [
        "#**9) Maʼlumotlar omboriga soʻrov yuborish**\n",
        "1. Jadvallar roʻyxatini koʻring. Ularning ichida `albums` jadvali boʻlsa, shu jadvaldagi barcha maʼlumotlarni (qatorlarni) ekranga chiqaring.\n",
        "2. Qatorlar soni nechta ekanini aniqlab, uni ham ekranga chiqaring.\n",
        "3.`albums` jadvalining ustunlari haqidagi maʼlumotlarni ekranga chiqaring.\n"
      ],
      "metadata": {
        "id": "16Ec1cI1k_Nn"
      }
    },
    {
      "cell_type": "code",
      "source": [
        "import pandas as pd\n",
        "\n",
        "if 'conn' in locals() and conn is not None:\n",
        "    albums_df = pd.read_sql_query(\"SELECT * FROM albums;\", conn)\n",
        "    display(albums_df.head())\n",
        "else:\n",
        "    print(\"Bu jadval topilmadi.\")"
      ],
      "metadata": {
        "id": "JPzDjfqpP2GM"
      },
      "execution_count": null,
      "outputs": []
    },
    {
      "cell_type": "code",
      "source": [
        "if 'albums_df' in locals():\n",
        "    print(f\"Soni: {albums_df.shape[0]}\")\n",
        "else:\n",
        "   \"xxx\"\n",
        "display(albums_df.head())"
      ],
      "metadata": {
        "id": "z3_vuKSDSIYk"
      },
      "execution_count": null,
      "outputs": []
    },
    {
      "cell_type": "code",
      "source": [
        "albums_df.info()"
      ],
      "metadata": {
        "id": "tpbrsPAhSotC"
      },
      "execution_count": null,
      "outputs": []
    },
    {
      "cell_type": "markdown",
      "source": [
        "#**10) SQL to DataFrame**\n",
        "1. `albums` jadvalini `pandas.DataFrame` ga oʻtkazing!"
      ],
      "metadata": {
        "id": "QNcPSVlL_J81"
      }
    },
    {
      "cell_type": "code",
      "source": [
        "#javobni shu yerda yozing.\n",
        "import pandas as pd\n",
        "\n",
        "# Assuming 'conn' is your active sqlite3 connection object\n",
        "if 'conn' in locals() and conn is not None:\n",
        "    albums_df = pd.read_sql_query(\"SELECT * FROM albums;\", conn)\n",
        "    display(albums_df.head())\n",
        "else:\n",
        "    print(\"Bu ma'lumot topilmadi.\")"
      ],
      "metadata": {
        "id": "0EESY6eLAkkO"
      },
      "execution_count": null,
      "outputs": []
    },
    {
      "cell_type": "markdown",
      "source": [
        "#**11)**  `chinook.db` maʼlumotlar omboridan `tracks` jadvalining birinchi 10 ta qatorini ekranga chiqaring\n",
        "\n",
        "#💡Ishora: LIMIT"
      ],
      "metadata": {
        "id": "da6KD4liAzdt"
      }
    },
    {
      "cell_type": "code",
      "source": [
        "#javobni shu yerda yozing.\n",
        "if 'conn' in locals() and conn is not None:\n",
        "    tracks_df = pd.read_sql_query(\"SELECT * FROM tracks LIMIT 10;\", conn)\n",
        "    display(tracks_df.head(10))"
      ],
      "metadata": {
        "id": "CMa3KYFrCXzy"
      },
      "execution_count": null,
      "outputs": []
    },
    {
      "cell_type": "markdown",
      "source": [
        "#**12)**`tracks` jadvalidan faqat `Name`, `Composer` ustunlarini tanlab oling!"
      ],
      "metadata": {
        "id": "BfuRKS09CdxM"
      }
    },
    {
      "cell_type": "code",
      "source": [
        "#javobni shu yerda yozing.\n",
        "if 'conn' in locals() and conn is not None:\n",
        "    tracks_df1 = pd.read_sql_query(\"SELECT Name, Composer FROM tracks;\", conn)\n",
        "    display(tracks_df1.head())\n",
        "else:\n",
        "    print(\"Bog'lanmagan-topilmadi\")"
      ],
      "metadata": {
        "id": "2Hxdp3l1C-Db"
      },
      "execution_count": null,
      "outputs": []
    },
    {
      "cell_type": "markdown",
      "source": [
        "#**13) ORDER BY , DISTINCT**\n",
        "* `tracks` jadvalidagi takrorlanmaydigan `GenreId` qiymatlarini oling.\n",
        "* `tracks` jadvalidagi treklarni `Milliseconds` ustuni bo‘yicha kamayish tartibida saralang.\n",
        "\n",
        "#💡Ishora: ORDER BY , DISTINCT"
      ],
      "metadata": {
        "id": "gG0pOz8EDY3T"
      }
    },
    {
      "cell_type": "code",
      "source": [
        "#javobni shu yerda yozing.\n",
        "if 'conn' in locals() and conn is not None:\n",
        "    tracks_df2 = pd.read_sql_query(\"SELECT DISTINCT GenreId FROM tracks;\", conn)\n",
        "    display(tracks_df2.head())"
      ],
      "metadata": {
        "id": "eTsTode-D8_n"
      },
      "execution_count": null,
      "outputs": []
    },
    {
      "cell_type": "code",
      "source": [
        "if 'conn' in locals() and conn is not None:\n",
        "    tracks_df3 = pd.read_sql_query(\"SELECT * FROM tracks ORDER BY Milliseconds DESC;\", conn)\n",
        "    display(tracks_df3.head())"
      ],
      "metadata": {
        "id": "7bKrO5mMp-9Q"
      },
      "execution_count": null,
      "outputs": []
    },
    {
      "cell_type": "markdown",
      "source": [
        "#**14) Filtering**\n",
        " * `invoices` jadvalidan `Total` summasi 10 dan katta bo‘lgan maʼlumotlarni tanlang.\n",
        "\n",
        "# 💡Ishora: WHERE"
      ],
      "metadata": {
        "id": "GKKa1zIZEOvG"
      }
    },
    {
      "cell_type": "code",
      "source": [
        "#javobni shu yerda yozing.\n",
        "if 'conn' in locals() and conn is not None:\n",
        "    invoices_df4 = pd.read_sql_query(\"SELECT * FROM invoices WHERE Total > 10;\", conn)\n",
        "    display(invoices_df4.head(10))"
      ],
      "metadata": {
        "id": "tzRXkjMmFVRu"
      },
      "execution_count": null,
      "outputs": []
    },
    {
      "cell_type": "markdown",
      "source": [
        "#**15) CREATE and INSERT**\n",
        "* `chinook.db` maʼlumotlar omboriga `users` jadvali yarating. Jadval maydonlari (ustunlar):\n",
        "  * `id`\n",
        "  * `name`\n",
        "  * `birth_date`\n",
        "* Yaratilgan `users` jadvaliga quyidagi maʼlumotlarni qoʻshing:\n",
        "\n",
        "    * ```\n",
        "    [\n",
        "    ('Alice', 25), ('Bob', 30), ('Charlie', 35), ('David', 28), ('Eve', 22),\n",
        "    ('Frank', 40), ('Grace', 27), ('Hannah', 32), ('Ivy', 29), ('Jack', 31),\n",
        "    ('Kevin', 33), ('Liam', 26), ('Mia', 24), ('Noah', 36), ('Olivia', 23),\n",
        "    ('Peter', 39), ('Quinn', 37), ('Rachel', 34), ('Samuel', 41), ('Tina', 21)\n",
        "]\n",
        " ```\n",
        "\n",
        "#💡Ishora: CREATE TABLE, INSERT\n"
      ],
      "metadata": {
        "id": "Qf86zRqnFvW7"
      }
    },
    {
      "cell_type": "code",
      "source": [
        "#javobni shu yerda yozing.\n",
        "create_table_query = \"\"\"\n",
        "CREATE TABLE IF NOT EXISTS users (\n",
        "    id INTEGER PRIMARY KEY AUTOINCREMENT,\n",
        "    name TEXT,\n",
        "    birth_date INTEGER\n",
        ");\n",
        "\"\"\"\n",
        "if 'conn' in locals() and conn is not None:\n",
        "    try:\n",
        "        cursor = conn.cursor()\n",
        "        cursor.execute(create_table_query)\n",
        "        conn.commit()\n",
        "        print(\"Table 'users' created successfully.\")\n",
        "    except sqlite3.Error as e:\n",
        "        print(f\"Error creating table: {e}\")\n",
        "else:\n",
        "    print(\"Database connection is not established.\")"
      ],
      "metadata": {
        "id": "2BFAW6u6JEpl"
      },
      "execution_count": null,
      "outputs": []
    },
    {
      "cell_type": "code",
      "source": [
        "# inserting\n",
        "data5 = [\n",
        "('Alice', 25), ('Bob', 30), ('Charlie', 35), ('David', 28), ('Eve', 22),\n",
        "('Frank', 40), ('Grace', 27), ('Hannah', 32), ('Ivy', 29), ('Jack', 31),\n",
        "('Kevin', 33), ('Liam', 26), ('Mia', 24), ('Noah', 36), ('Olivia', 23),\n",
        "('Peter', 39), ('Quinn', 37), ('Rachel', 34), ('Samuel', 41), ('Tina', 21)\n",
        "]\n",
        "insert_query = \"\"\"\n",
        "INSERT INTO users (name, birth_date)\n",
        "VALUES (?, ?);\n",
        "\"\"\"\n",
        "\n",
        "if 'conn' in locals() and conn is not None:\n",
        "    try:\n",
        "        cursor = conn.cursor()\n",
        "        cursor.executemany(insert_query, data5)\n",
        "        conn.commit()\n",
        "        print(f\"{len(data5)} records inserted into 'users' table.\")\n",
        "    except sqlite3.Error as e:\n",
        "        print(f\"Error inserting data: {e}\")\n",
        "else:\n",
        "    print(\"Database connection is not established.\")"
      ],
      "metadata": {
        "id": "3izLza9lshz1"
      },
      "execution_count": null,
      "outputs": []
    },
    {
      "cell_type": "code",
      "source": [
        "if 'conn' in locals() and conn is not None:\n",
        "        users_df = pd.read_sql_query(\"SELECT * FROM users;\", conn)\n",
        "        display(users_df)"
      ],
      "metadata": {
        "id": "WOlU5Wexs_4d"
      },
      "execution_count": null,
      "outputs": []
    },
    {
      "cell_type": "markdown",
      "source": [
        "#**16) UPDATE and DELETE**\n",
        "* `users` jadvalidagi Alice ismli foydalanuvchining yoshini yangilang.\n",
        "* `users` jadvalidan Alice ismli foydalanuvchini o‘chiring."
      ],
      "metadata": {
        "id": "GQ9oFMJ3JiiS"
      }
    },
    {
      "cell_type": "code",
      "source": [
        "#javobni shu yerda yozing.\n",
        "update_query = \"UPDATE users SET birth_date = ? WHERE name =?;\"\n",
        "if 'conn' in locals() and conn is not None:\n",
        "    try:\n",
        "        cursor = conn.cursor()\n",
        "        cursor.execute(update_query, (26, 'Alice'))\n",
        "        conn.commit()\n",
        "        print(\"Yangilandi.\")\n",
        "    except sqlite3.Error as e:\n",
        "        print(f\"Hatolik bo'ldi: {e}\")"
      ],
      "metadata": {
        "id": "Ixzz-ToXM0z_"
      },
      "execution_count": null,
      "outputs": []
    },
    {
      "cell_type": "code",
      "source": [
        "\n",
        "delete_query = \"DELETE FROM users WHERE name = ?;\"\n",
        "if 'conn' in locals() and conn is not None:\n",
        "    try:\n",
        "        cursor = conn.cursor()\n",
        "        cursor.execute(delete_query, ('Alice',))\n",
        "        conn.commit()\n",
        "        print(\"Alice deleted successfully.\")\n",
        "    except sqlite3.Error as e:\n",
        "        print(f\"Error deleting data: {e}\")\n",
        "\n",
        "if 'conn' in locals() and conn is not None:\n",
        "    users_df = pd.read_sql_query(\"SELECT * FROM users;\", conn)\n",
        "    display(users_df)"
      ],
      "metadata": {
        "id": "0cLgXhrAvjzY"
      },
      "execution_count": null,
      "outputs": []
    },
    {
      "cell_type": "markdown",
      "source": [
        "#**17) f-string yordamida SQL komandalarini yozish**\n",
        "* `customers` jadvalidan `FirstName` va `LastName` bo‘yicha qidiruv qiladigan f-string yozing."
      ],
      "metadata": {
        "id": "LmaRq4Q_M1mb"
      }
    },
    {
      "cell_type": "code",
      "source": [
        "#javobni shu yerda yozing.\n",
        "if 'conn' in locals() and conn is not None:\n",
        "    first_name_to_search = \"Luís\"\n",
        "    last_name_to_search = \"Gonçalves\"\n",
        "\n",
        "    search_query = f\"SELECT * FROM customers WHERE FirstName = '{first_name_to_search}' AND LastName = '{last_name_to_search}';\"\n",
        "\n",
        "    try:\n",
        "        customers_df = pd.read_sql_query(search_query, conn)\n",
        "        display(customers_df)\n",
        "    except sqlite3.Error as e:\n",
        "        print(f\"Error executing query: {e}\")"
      ],
      "metadata": {
        "id": "BseDMFbPOGmQ"
      },
      "execution_count": null,
      "outputs": []
    },
    {
      "cell_type": "markdown",
      "source": [
        "#**18)  AND and OR operators**\n",
        "\n",
        "* `invoices` jadvalidan `BillingCountry` Germaniya yoki Fransiya boʻlgan va `Total` summasi 5 dan katta bo‘lgan kerakli qatorlarni tanlang.\n",
        "\n",
        "#💡Ishora: AND, OR"
      ],
      "metadata": {
        "id": "BHa7GLe0O2Q8"
      }
    },
    {
      "cell_type": "code",
      "source": [
        "#javobni shu yerda yozing.\n",
        "if 'conn' in locals() and conn is not None:\n",
        "    query = \"\"\"\n",
        "    SELECT * FROM invoices WHERE (BillingCountry = 'Germany' OR BillingCountry = 'France') AND Total > 5;\n",
        "    \"\"\"\n",
        "    try:\n",
        "        invoices_filtered_df = pd.read_sql_query(query, conn)\n",
        "        display(invoices_filtered_df.head())\n",
        "    except sqlite3.Error as e:\n",
        "        print(f\"Hatolik bor: {e}\")"
      ],
      "metadata": {
        "id": "J5lr15WgQ3V5"
      },
      "execution_count": null,
      "outputs": []
    },
    {
      "cell_type": "markdown",
      "source": [
        "#**19) BETWEEN and LIKE**\n",
        "\n",
        "* `invoices` jadvalidan `Total` summasi 5 dan 15 gacha bo‘lgan qatorlarni tanlang.\n",
        "* `customers` jadvalidan ismi `A` harfi bilan boshlanadigan foydalanuvchilarni tanlang."
      ],
      "metadata": {
        "id": "wQQmjjAOSCB2"
      }
    },
    {
      "cell_type": "code",
      "source": [
        "#javobni shu yerda yozing.\n",
        "if 'conn' in locals() and conn is not None:\n",
        "    query1 = \"\"\" SELECT * FROM invoices WHERE Total BETWEEN 5 AND 15;\n",
        "    \"\"\"\n",
        "    try:\n",
        "        invoices_filter_df = pd.read_sql_query(query1, conn)\n",
        "        print(\"Invoices with Total between 5 and 15:\")\n",
        "        display(invoices_filter_df.head())\n",
        "    except sqlite3.Error as e:\n",
        "        print(f\"Hatolik bor: {e}\")"
      ],
      "metadata": {
        "id": "djXd2b02SwhJ"
      },
      "execution_count": null,
      "outputs": []
    },
    {
      "cell_type": "code",
      "source": [
        " # Select customers whose names start with 'A'\n",
        "if 'conn' in locals() and conn is not None:\n",
        "    query2 = \"\"\"\n",
        "    SELECT * FROM customers WHERE FirstName LIKE 'A%';\n",
        "    \"\"\"\n",
        "    try:\n",
        "        customers_A_df = pd.read_sql_query(query2, conn)\n",
        "        print(\"\\nCustomers whose first name starts with 'A':\")\n",
        "        display(customers_A_df.head())\n",
        "    except sqlite3.Error as e:\n",
        "        print(f\"Hatolik bor: {e}\")"
      ],
      "metadata": {
        "id": "6zpV71BIxU2I"
      },
      "execution_count": null,
      "outputs": []
    },
    {
      "cell_type": "markdown",
      "source": [
        "#**20) DataFrame to SQL**\n",
        "* Quyidagi maʼlumotlardan dataframe yarating.\n",
        "  ```\n",
        "  sales_data = {\n",
        "    \"sale_id\": list(range(1, 21)),  # 1 dan 20 gacha boʻlgan unikal IDʼlar\n",
        "    \"product_name\": [\n",
        "        \"Laptop\", \"Smartphone\", \"Tablet\", \"Headphones\", \"Smartwatch\",\n",
        "        \"Monitor\", \"Keyboard\", \"Mouse\", \"Printer\", \"Camera\",\n",
        "        \"Speaker\", \"Game Console\", \"TV\", \"Router\", \"Power Bank\",\n",
        "        \"Hard Drive\", \"USB Flash\", \"Graphics Card\", \"Microphone\", \"VR Headset\"\n",
        "    ],\n",
        "    \"quantity\": [2, 5, 3, 10, 4, 6, 8, 12, 3, 5, 7, 9, 4, 2, 11, 6, 15, 1, 3, 2],\n",
        "    \"price\": [1200, 800, 450, 200, 300, 500, 100, 50, 250, 700,\n",
        "              150, 400, 1000, 90, 60, 110, 30, 1500, 80, 600],\n",
        "    \"sale_date\": [\n",
        "        \"2025-03-01\", \"2025-03-02\", \"2025-03-03\", \"2025-03-04\", \"2025-03-05\",\n",
        "        \"2025-03-06\", \"2025-03-07\", \"2025-03-08\", \"2025-03-09\", \"2025-03-10\",\n",
        "        \"2025-03-11\", \"2025-03-12\", \"2025-03-13\", \"2025-03-14\", \"2025-03-15\",\n",
        "        \"2025-03-16\", \"2025-03-17\", \"2025-03-18\", \"2025-03-19\", \"2025-03-20\"\n",
        "    ]\n",
        "}\n",
        "```\n",
        "*Yuqoridagi maʼlumotlar asosida yaratgan dataframeʼingizdan SQL jadvali tuzing va uni `sales` deb nomlang."
      ],
      "metadata": {
        "id": "4mK0GuRTU9po"
      }
    },
    {
      "cell_type": "code",
      "source": [
        "#javobni shu yerda yozing.\n",
        "sales_data = {\n",
        "    \"sale_id\": list(range(1, 21)),  # 1 dan 20 gacha boʻlgan unikal IDʼlar\n",
        "  \"product_name\": [\n",
        "      \"Laptop\", \"Smartphone\", \"Tablet\", \"Headphones\", \"Smartwatch\",\n",
        "      \"Monitor\", \"Keyboard\", \"Mouse\", \"Printer\", \"Camera\",\n",
        "      \"Speaker\", \"Game Console\", \"TV\", \"Router\", \"Power Bank\",\n",
        "      \"Hard Drive\", \"USB Flash\", \"Graphics Card\", \"Microphone\", \"VR Headset\"\n",
        "  ],\n",
        "  \"quantity\": [2, 5, 3, 10, 4, 6, 8, 12, 3, 5, 7, 9, 4, 2, 11, 6, 15, 1, 3, 2],\n",
        "  \"price\": [1200, 800, 450, 200, 300, 500, 100, 50, 250, 700,\n",
        "            150, 400, 1000, 90, 60, 110, 30, 1500, 80, 600],\n",
        "  \"sale_date\": [\n",
        "      \"2025-03-01\", \"2025-03-02\", \"2025-03-03\", \"2025-03-04\", \"2025-03-05\",\n",
        "      \"2025-03-06\", \"2025-03-07\", \"2025-03-08\", \"2025-03-09\", \"2025-03-10\",\n",
        "      \"2025-03-11\", \"2025-03-12\", \"2025-03-13\", \"2025-03-14\", \"2025-03-15\",\n",
        "      \"2025-03-16\", \"2025-03-17\", \"2025-03-18\", \"2025-03-19\", \"2025-03-20\"\n",
        "  ]\n",
        "}\n",
        "sales_df = pd.DataFrame(sales_data)\n",
        "display(sales_df.head())"
      ],
      "metadata": {
        "id": "LVyPykvJZfWR"
      },
      "execution_count": null,
      "outputs": []
    }
  ]
}